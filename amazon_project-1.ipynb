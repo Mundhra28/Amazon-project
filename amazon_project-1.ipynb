{
 "cells": [
  {
   "cell_type": "code",
   "execution_count": 42,
   "metadata": {},
   "outputs": [],
   "source": [
    "import numpy as np \n",
    "import pandas as pd\n",
    "import matplotlib.pyplot as plt \n",
    "import seaborn as sns "
   ]
  },
  {
   "cell_type": "code",
   "execution_count": 43,
   "metadata": {},
   "outputs": [
    {
     "data": {
      "text/plain": [
       "Index(['product_id', 'product_name', 'category', 'discounted_price',\n",
       "       'actual_price', 'discount_percentage', 'rating', 'rating_count',\n",
       "       'about_product', 'user_id', 'user_name', 'review_id', 'review_title',\n",
       "       'review_content', 'img_link', 'product_link'],\n",
       "      dtype='object')"
      ]
     },
     "execution_count": 43,
     "metadata": {},
     "output_type": "execute_result"
    }
   ],
   "source": [
    "df = pd.read_csv('amazon.csv')\n",
    "df.columns"
   ]
  },
  {
   "cell_type": "code",
   "execution_count": 44,
   "metadata": {},
   "outputs": [
    {
     "name": "stdout",
     "output_type": "stream",
     "text": [
      "<class 'pandas.core.frame.DataFrame'>\n",
      "RangeIndex: 1465 entries, 0 to 1464\n",
      "Data columns (total 16 columns):\n",
      " #   Column               Non-Null Count  Dtype \n",
      "---  ------               --------------  ----- \n",
      " 0   product_id           1465 non-null   object\n",
      " 1   product_name         1465 non-null   object\n",
      " 2   category             1465 non-null   object\n",
      " 3   discounted_price     1465 non-null   object\n",
      " 4   actual_price         1465 non-null   object\n",
      " 5   discount_percentage  1465 non-null   object\n",
      " 6   rating               1465 non-null   object\n",
      " 7   rating_count         1463 non-null   object\n",
      " 8   about_product        1465 non-null   object\n",
      " 9   user_id              1465 non-null   object\n",
      " 10  user_name            1465 non-null   object\n",
      " 11  review_id            1465 non-null   object\n",
      " 12  review_title         1465 non-null   object\n",
      " 13  review_content       1465 non-null   object\n",
      " 14  img_link             1465 non-null   object\n",
      " 15  product_link         1465 non-null   object\n",
      "dtypes: object(16)\n",
      "memory usage: 183.3+ KB\n"
     ]
    }
   ],
   "source": [
    "df.info()"
   ]
  },
  {
   "cell_type": "code",
   "execution_count": 45,
   "metadata": {},
   "outputs": [
    {
     "data": {
      "text/plain": [
       "product_id             0\n",
       "product_name           0\n",
       "category               0\n",
       "discounted_price       0\n",
       "actual_price           0\n",
       "discount_percentage    0\n",
       "rating                 0\n",
       "rating_count           2\n",
       "about_product          0\n",
       "user_id                0\n",
       "user_name              0\n",
       "review_id              0\n",
       "review_title           0\n",
       "review_content         0\n",
       "img_link               0\n",
       "product_link           0\n",
       "dtype: int64"
      ]
     },
     "execution_count": 45,
     "metadata": {},
     "output_type": "execute_result"
    }
   ],
   "source": [
    "df.isnull().sum()"
   ]
  },
  {
   "cell_type": "code",
   "execution_count": 46,
   "metadata": {},
   "outputs": [
    {
     "data": {
      "text/plain": [
       "0         ₹399\n",
       "1         ₹199\n",
       "2         ₹199\n",
       "3         ₹329\n",
       "4         ₹154\n",
       "         ...  \n",
       "1460      ₹379\n",
       "1461    ₹2,280\n",
       "1462    ₹2,219\n",
       "1463    ₹1,399\n",
       "1464    ₹2,863\n",
       "Name: discounted_price, Length: 1465, dtype: object"
      ]
     },
     "execution_count": 46,
     "metadata": {},
     "output_type": "execute_result"
    }
   ],
   "source": [
    "df['discounted_price']"
   ]
  },
  {
   "cell_type": "code",
   "execution_count": 47,
   "metadata": {},
   "outputs": [],
   "source": [
    "df['discounted_price'] = df['discounted_price'].str.replace('₹','').str.replace(',','').astype('float64')\n",
    "df['actual_price'] = df['actual_price'].str.replace('₹','').str.replace(',','').astype('float64')"
   ]
  },
  {
   "cell_type": "code",
   "execution_count": 48,
   "metadata": {},
   "outputs": [
    {
     "name": "stdout",
     "output_type": "stream",
     "text": [
      "<class 'pandas.core.frame.DataFrame'>\n",
      "RangeIndex: 1465 entries, 0 to 1464\n",
      "Data columns (total 16 columns):\n",
      " #   Column               Non-Null Count  Dtype  \n",
      "---  ------               --------------  -----  \n",
      " 0   product_id           1465 non-null   object \n",
      " 1   product_name         1465 non-null   object \n",
      " 2   category             1465 non-null   object \n",
      " 3   discounted_price     1465 non-null   float64\n",
      " 4   actual_price         1465 non-null   float64\n",
      " 5   discount_percentage  1465 non-null   object \n",
      " 6   rating               1465 non-null   object \n",
      " 7   rating_count         1463 non-null   object \n",
      " 8   about_product        1465 non-null   object \n",
      " 9   user_id              1465 non-null   object \n",
      " 10  user_name            1465 non-null   object \n",
      " 11  review_id            1465 non-null   object \n",
      " 12  review_title         1465 non-null   object \n",
      " 13  review_content       1465 non-null   object \n",
      " 14  img_link             1465 non-null   object \n",
      " 15  product_link         1465 non-null   object \n",
      "dtypes: float64(2), object(14)\n",
      "memory usage: 183.3+ KB\n"
     ]
    }
   ],
   "source": [
    "df.info()"
   ]
  },
  {
   "cell_type": "code",
   "execution_count": 49,
   "metadata": {},
   "outputs": [
    {
     "data": {
      "text/plain": [
       "0       64%\n",
       "1       43%\n",
       "2       90%\n",
       "3       53%\n",
       "4       61%\n",
       "       ... \n",
       "1460    59%\n",
       "1461    25%\n",
       "1462    28%\n",
       "1463    26%\n",
       "1464    22%\n",
       "Name: discount_percentage, Length: 1465, dtype: object"
      ]
     },
     "execution_count": 49,
     "metadata": {},
     "output_type": "execute_result"
    }
   ],
   "source": [
    "df['discount_percentage']"
   ]
  },
  {
   "cell_type": "code",
   "execution_count": 50,
   "metadata": {},
   "outputs": [
    {
     "data": {
      "text/plain": [
       "0       0.64\n",
       "1       0.43\n",
       "2       0.90\n",
       "3       0.53\n",
       "4       0.61\n",
       "        ... \n",
       "1460    0.59\n",
       "1461    0.25\n",
       "1462    0.28\n",
       "1463    0.26\n",
       "1464    0.22\n",
       "Name: discount_percentage, Length: 1465, dtype: float64"
      ]
     },
     "execution_count": 50,
     "metadata": {},
     "output_type": "execute_result"
    }
   ],
   "source": [
    "df['discount_percentage'] = df['discount_percentage'].str.replace('%','').astype('float64')/100\n",
    "df['discount_percentage']"
   ]
  },
  {
   "cell_type": "code",
   "execution_count": 51,
   "metadata": {},
   "outputs": [
    {
     "ename": "ValueError",
     "evalue": "could not convert string to float: '|'",
     "output_type": "error",
     "traceback": [
      "\u001b[31m---------------------------------------------------------------------------\u001b[39m",
      "\u001b[31mValueError\u001b[39m                                Traceback (most recent call last)",
      "\u001b[36mCell\u001b[39m\u001b[36m \u001b[39m\u001b[32mIn[51]\u001b[39m\u001b[32m, line 1\u001b[39m\n\u001b[32m----> \u001b[39m\u001b[32m1\u001b[39m \u001b[43mdf\u001b[49m\u001b[43m[\u001b[49m\u001b[33;43m'\u001b[39;49m\u001b[33;43mrating\u001b[39;49m\u001b[33;43m'\u001b[39;49m\u001b[43m]\u001b[49m\u001b[43m.\u001b[49m\u001b[43mastype\u001b[49m\u001b[43m(\u001b[49m\u001b[33;43m'\u001b[39;49m\u001b[33;43mfloat64\u001b[39;49m\u001b[33;43m'\u001b[39;49m\u001b[43m)\u001b[49m\n",
      "\u001b[36mFile \u001b[39m\u001b[32m/Library/Frameworks/Python.framework/Versions/3.13/lib/python3.13/site-packages/pandas/core/generic.py:6643\u001b[39m, in \u001b[36mNDFrame.astype\u001b[39m\u001b[34m(self, dtype, copy, errors)\u001b[39m\n\u001b[32m   6637\u001b[39m     results = [\n\u001b[32m   6638\u001b[39m         ser.astype(dtype, copy=copy, errors=errors) \u001b[38;5;28;01mfor\u001b[39;00m _, ser \u001b[38;5;129;01min\u001b[39;00m \u001b[38;5;28mself\u001b[39m.items()\n\u001b[32m   6639\u001b[39m     ]\n\u001b[32m   6641\u001b[39m \u001b[38;5;28;01melse\u001b[39;00m:\n\u001b[32m   6642\u001b[39m     \u001b[38;5;66;03m# else, only a single dtype is given\u001b[39;00m\n\u001b[32m-> \u001b[39m\u001b[32m6643\u001b[39m     new_data = \u001b[38;5;28;43mself\u001b[39;49m\u001b[43m.\u001b[49m\u001b[43m_mgr\u001b[49m\u001b[43m.\u001b[49m\u001b[43mastype\u001b[49m\u001b[43m(\u001b[49m\u001b[43mdtype\u001b[49m\u001b[43m=\u001b[49m\u001b[43mdtype\u001b[49m\u001b[43m,\u001b[49m\u001b[43m \u001b[49m\u001b[43mcopy\u001b[49m\u001b[43m=\u001b[49m\u001b[43mcopy\u001b[49m\u001b[43m,\u001b[49m\u001b[43m \u001b[49m\u001b[43merrors\u001b[49m\u001b[43m=\u001b[49m\u001b[43merrors\u001b[49m\u001b[43m)\u001b[49m\n\u001b[32m   6644\u001b[39m     res = \u001b[38;5;28mself\u001b[39m._constructor_from_mgr(new_data, axes=new_data.axes)\n\u001b[32m   6645\u001b[39m     \u001b[38;5;28;01mreturn\u001b[39;00m res.__finalize__(\u001b[38;5;28mself\u001b[39m, method=\u001b[33m\"\u001b[39m\u001b[33mastype\u001b[39m\u001b[33m\"\u001b[39m)\n",
      "\u001b[36mFile \u001b[39m\u001b[32m/Library/Frameworks/Python.framework/Versions/3.13/lib/python3.13/site-packages/pandas/core/internals/managers.py:430\u001b[39m, in \u001b[36mBaseBlockManager.astype\u001b[39m\u001b[34m(self, dtype, copy, errors)\u001b[39m\n\u001b[32m    427\u001b[39m \u001b[38;5;28;01melif\u001b[39;00m using_copy_on_write():\n\u001b[32m    428\u001b[39m     copy = \u001b[38;5;28;01mFalse\u001b[39;00m\n\u001b[32m--> \u001b[39m\u001b[32m430\u001b[39m \u001b[38;5;28;01mreturn\u001b[39;00m \u001b[38;5;28;43mself\u001b[39;49m\u001b[43m.\u001b[49m\u001b[43mapply\u001b[49m\u001b[43m(\u001b[49m\n\u001b[32m    431\u001b[39m \u001b[43m    \u001b[49m\u001b[33;43m\"\u001b[39;49m\u001b[33;43mastype\u001b[39;49m\u001b[33;43m\"\u001b[39;49m\u001b[43m,\u001b[49m\n\u001b[32m    432\u001b[39m \u001b[43m    \u001b[49m\u001b[43mdtype\u001b[49m\u001b[43m=\u001b[49m\u001b[43mdtype\u001b[49m\u001b[43m,\u001b[49m\n\u001b[32m    433\u001b[39m \u001b[43m    \u001b[49m\u001b[43mcopy\u001b[49m\u001b[43m=\u001b[49m\u001b[43mcopy\u001b[49m\u001b[43m,\u001b[49m\n\u001b[32m    434\u001b[39m \u001b[43m    \u001b[49m\u001b[43merrors\u001b[49m\u001b[43m=\u001b[49m\u001b[43merrors\u001b[49m\u001b[43m,\u001b[49m\n\u001b[32m    435\u001b[39m \u001b[43m    \u001b[49m\u001b[43musing_cow\u001b[49m\u001b[43m=\u001b[49m\u001b[43musing_copy_on_write\u001b[49m\u001b[43m(\u001b[49m\u001b[43m)\u001b[49m\u001b[43m,\u001b[49m\n\u001b[32m    436\u001b[39m \u001b[43m\u001b[49m\u001b[43m)\u001b[49m\n",
      "\u001b[36mFile \u001b[39m\u001b[32m/Library/Frameworks/Python.framework/Versions/3.13/lib/python3.13/site-packages/pandas/core/internals/managers.py:363\u001b[39m, in \u001b[36mBaseBlockManager.apply\u001b[39m\u001b[34m(self, f, align_keys, **kwargs)\u001b[39m\n\u001b[32m    361\u001b[39m         applied = b.apply(f, **kwargs)\n\u001b[32m    362\u001b[39m     \u001b[38;5;28;01melse\u001b[39;00m:\n\u001b[32m--> \u001b[39m\u001b[32m363\u001b[39m         applied = \u001b[38;5;28;43mgetattr\u001b[39;49m\u001b[43m(\u001b[49m\u001b[43mb\u001b[49m\u001b[43m,\u001b[49m\u001b[43m \u001b[49m\u001b[43mf\u001b[49m\u001b[43m)\u001b[49m\u001b[43m(\u001b[49m\u001b[43m*\u001b[49m\u001b[43m*\u001b[49m\u001b[43mkwargs\u001b[49m\u001b[43m)\u001b[49m\n\u001b[32m    364\u001b[39m     result_blocks = extend_blocks(applied, result_blocks)\n\u001b[32m    366\u001b[39m out = \u001b[38;5;28mtype\u001b[39m(\u001b[38;5;28mself\u001b[39m).from_blocks(result_blocks, \u001b[38;5;28mself\u001b[39m.axes)\n",
      "\u001b[36mFile \u001b[39m\u001b[32m/Library/Frameworks/Python.framework/Versions/3.13/lib/python3.13/site-packages/pandas/core/internals/blocks.py:758\u001b[39m, in \u001b[36mBlock.astype\u001b[39m\u001b[34m(self, dtype, copy, errors, using_cow, squeeze)\u001b[39m\n\u001b[32m    755\u001b[39m         \u001b[38;5;28;01mraise\u001b[39;00m \u001b[38;5;167;01mValueError\u001b[39;00m(\u001b[33m\"\u001b[39m\u001b[33mCan not squeeze with more than one column.\u001b[39m\u001b[33m\"\u001b[39m)\n\u001b[32m    756\u001b[39m     values = values[\u001b[32m0\u001b[39m, :]  \u001b[38;5;66;03m# type: ignore[call-overload]\u001b[39;00m\n\u001b[32m--> \u001b[39m\u001b[32m758\u001b[39m new_values = \u001b[43mastype_array_safe\u001b[49m\u001b[43m(\u001b[49m\u001b[43mvalues\u001b[49m\u001b[43m,\u001b[49m\u001b[43m \u001b[49m\u001b[43mdtype\u001b[49m\u001b[43m,\u001b[49m\u001b[43m \u001b[49m\u001b[43mcopy\u001b[49m\u001b[43m=\u001b[49m\u001b[43mcopy\u001b[49m\u001b[43m,\u001b[49m\u001b[43m \u001b[49m\u001b[43merrors\u001b[49m\u001b[43m=\u001b[49m\u001b[43merrors\u001b[49m\u001b[43m)\u001b[49m\n\u001b[32m    760\u001b[39m new_values = maybe_coerce_values(new_values)\n\u001b[32m    762\u001b[39m refs = \u001b[38;5;28;01mNone\u001b[39;00m\n",
      "\u001b[36mFile \u001b[39m\u001b[32m/Library/Frameworks/Python.framework/Versions/3.13/lib/python3.13/site-packages/pandas/core/dtypes/astype.py:237\u001b[39m, in \u001b[36mastype_array_safe\u001b[39m\u001b[34m(values, dtype, copy, errors)\u001b[39m\n\u001b[32m    234\u001b[39m     dtype = dtype.numpy_dtype\n\u001b[32m    236\u001b[39m \u001b[38;5;28;01mtry\u001b[39;00m:\n\u001b[32m--> \u001b[39m\u001b[32m237\u001b[39m     new_values = \u001b[43mastype_array\u001b[49m\u001b[43m(\u001b[49m\u001b[43mvalues\u001b[49m\u001b[43m,\u001b[49m\u001b[43m \u001b[49m\u001b[43mdtype\u001b[49m\u001b[43m,\u001b[49m\u001b[43m \u001b[49m\u001b[43mcopy\u001b[49m\u001b[43m=\u001b[49m\u001b[43mcopy\u001b[49m\u001b[43m)\u001b[49m\n\u001b[32m    238\u001b[39m \u001b[38;5;28;01mexcept\u001b[39;00m (\u001b[38;5;167;01mValueError\u001b[39;00m, \u001b[38;5;167;01mTypeError\u001b[39;00m):\n\u001b[32m    239\u001b[39m     \u001b[38;5;66;03m# e.g. _astype_nansafe can fail on object-dtype of strings\u001b[39;00m\n\u001b[32m    240\u001b[39m     \u001b[38;5;66;03m#  trying to convert to float\u001b[39;00m\n\u001b[32m    241\u001b[39m     \u001b[38;5;28;01mif\u001b[39;00m errors == \u001b[33m\"\u001b[39m\u001b[33mignore\u001b[39m\u001b[33m\"\u001b[39m:\n",
      "\u001b[36mFile \u001b[39m\u001b[32m/Library/Frameworks/Python.framework/Versions/3.13/lib/python3.13/site-packages/pandas/core/dtypes/astype.py:182\u001b[39m, in \u001b[36mastype_array\u001b[39m\u001b[34m(values, dtype, copy)\u001b[39m\n\u001b[32m    179\u001b[39m     values = values.astype(dtype, copy=copy)\n\u001b[32m    181\u001b[39m \u001b[38;5;28;01melse\u001b[39;00m:\n\u001b[32m--> \u001b[39m\u001b[32m182\u001b[39m     values = \u001b[43m_astype_nansafe\u001b[49m\u001b[43m(\u001b[49m\u001b[43mvalues\u001b[49m\u001b[43m,\u001b[49m\u001b[43m \u001b[49m\u001b[43mdtype\u001b[49m\u001b[43m,\u001b[49m\u001b[43m \u001b[49m\u001b[43mcopy\u001b[49m\u001b[43m=\u001b[49m\u001b[43mcopy\u001b[49m\u001b[43m)\u001b[49m\n\u001b[32m    184\u001b[39m \u001b[38;5;66;03m# in pandas we don't store numpy str dtypes, so convert to object\u001b[39;00m\n\u001b[32m    185\u001b[39m \u001b[38;5;28;01mif\u001b[39;00m \u001b[38;5;28misinstance\u001b[39m(dtype, np.dtype) \u001b[38;5;129;01mand\u001b[39;00m \u001b[38;5;28missubclass\u001b[39m(values.dtype.type, \u001b[38;5;28mstr\u001b[39m):\n",
      "\u001b[36mFile \u001b[39m\u001b[32m/Library/Frameworks/Python.framework/Versions/3.13/lib/python3.13/site-packages/pandas/core/dtypes/astype.py:133\u001b[39m, in \u001b[36m_astype_nansafe\u001b[39m\u001b[34m(arr, dtype, copy, skipna)\u001b[39m\n\u001b[32m    129\u001b[39m     \u001b[38;5;28;01mraise\u001b[39;00m \u001b[38;5;167;01mValueError\u001b[39;00m(msg)\n\u001b[32m    131\u001b[39m \u001b[38;5;28;01mif\u001b[39;00m copy \u001b[38;5;129;01mor\u001b[39;00m arr.dtype == \u001b[38;5;28mobject\u001b[39m \u001b[38;5;129;01mor\u001b[39;00m dtype == \u001b[38;5;28mobject\u001b[39m:\n\u001b[32m    132\u001b[39m     \u001b[38;5;66;03m# Explicit copy, or required since NumPy can't view from / to object.\u001b[39;00m\n\u001b[32m--> \u001b[39m\u001b[32m133\u001b[39m     \u001b[38;5;28;01mreturn\u001b[39;00m \u001b[43marr\u001b[49m\u001b[43m.\u001b[49m\u001b[43mastype\u001b[49m\u001b[43m(\u001b[49m\u001b[43mdtype\u001b[49m\u001b[43m,\u001b[49m\u001b[43m \u001b[49m\u001b[43mcopy\u001b[49m\u001b[43m=\u001b[49m\u001b[38;5;28;43;01mTrue\u001b[39;49;00m\u001b[43m)\u001b[49m\n\u001b[32m    135\u001b[39m \u001b[38;5;28;01mreturn\u001b[39;00m arr.astype(dtype, copy=copy)\n",
      "\u001b[31mValueError\u001b[39m: could not convert string to float: '|'"
     ]
    }
   ],
   "source": [
    "df['rating'].astype('float64')"
   ]
  },
  {
   "cell_type": "code",
   "execution_count": null,
   "metadata": {},
   "outputs": [
    {
     "data": {
      "text/plain": [
       "rating\n",
       "4.1    244\n",
       "4.3    230\n",
       "4.2    228\n",
       "4.0    129\n",
       "3.9    123\n",
       "4.4    123\n",
       "3.8     86\n",
       "4.5     75\n",
       "4       52\n",
       "3.7     42\n",
       "3.6     35\n",
       "3.5     26\n",
       "4.6     17\n",
       "3.3     16\n",
       "3.4     10\n",
       "4.7      6\n",
       "3.1      4\n",
       "5.0      3\n",
       "3.0      3\n",
       "4.8      3\n",
       "3.2      2\n",
       "2.8      2\n",
       "2.3      1\n",
       "|        1\n",
       "2        1\n",
       "3        1\n",
       "2.6      1\n",
       "2.9      1\n",
       "Name: count, dtype: int64"
      ]
     },
     "execution_count": 26,
     "metadata": {},
     "output_type": "execute_result"
    }
   ],
   "source": [
    "df['rating'].value_counts()"
   ]
  },
  {
   "cell_type": "code",
   "execution_count": null,
   "metadata": {},
   "outputs": [
    {
     "data": {
      "text/html": [
       "<div>\n",
       "<style scoped>\n",
       "    .dataframe tbody tr th:only-of-type {\n",
       "        vertical-align: middle;\n",
       "    }\n",
       "\n",
       "    .dataframe tbody tr th {\n",
       "        vertical-align: top;\n",
       "    }\n",
       "\n",
       "    .dataframe thead th {\n",
       "        text-align: right;\n",
       "    }\n",
       "</style>\n",
       "<table border=\"1\" class=\"dataframe\">\n",
       "  <thead>\n",
       "    <tr style=\"text-align: right;\">\n",
       "      <th></th>\n",
       "      <th>product_id</th>\n",
       "      <th>product_name</th>\n",
       "      <th>category</th>\n",
       "      <th>discounted_price</th>\n",
       "      <th>actual_price</th>\n",
       "      <th>discount_percentage</th>\n",
       "      <th>rating</th>\n",
       "      <th>rating_count</th>\n",
       "      <th>about_product</th>\n",
       "      <th>user_id</th>\n",
       "      <th>user_name</th>\n",
       "      <th>review_id</th>\n",
       "      <th>review_title</th>\n",
       "      <th>review_content</th>\n",
       "      <th>img_link</th>\n",
       "      <th>product_link</th>\n",
       "    </tr>\n",
       "  </thead>\n",
       "  <tbody>\n",
       "    <tr>\n",
       "      <th>1279</th>\n",
       "      <td>B08L12N5H1</td>\n",
       "      <td>Eureka Forbes car Vac 100 Watts Powerful Sucti...</td>\n",
       "      <td>Home&amp;Kitchen|Kitchen&amp;HomeAppliances|Vacuum,Cle...</td>\n",
       "      <td>2099.0</td>\n",
       "      <td>2499.0</td>\n",
       "      <td>0.16</td>\n",
       "      <td>|</td>\n",
       "      <td>992</td>\n",
       "      <td>No Installation is provided for this product|1...</td>\n",
       "      <td>AGTDSNT2FKVYEPDPXAA673AIS44A,AER2XFSWNN4LAUCJ5...</td>\n",
       "      <td>Divya,Dr Nefario,Deekshith,Preeti,Prasanth R,P...</td>\n",
       "      <td>R2KKTKM4M9RDVJ,R1O692MZOBTE79,R2WRSEWL56SOS4,R...</td>\n",
       "      <td>Decent product,doesn't pick up sand,Ok ok,Must...</td>\n",
       "      <td>Does the job well,doesn't work on sand. though...</td>\n",
       "      <td>https://m.media-amazon.com/images/W/WEBP_40237...</td>\n",
       "      <td>https://www.amazon.in/Eureka-Forbes-Vacuum-Cle...</td>\n",
       "    </tr>\n",
       "  </tbody>\n",
       "</table>\n",
       "</div>"
      ],
      "text/plain": [
       "      product_id                                       product_name  \\\n",
       "1279  B08L12N5H1  Eureka Forbes car Vac 100 Watts Powerful Sucti...   \n",
       "\n",
       "                                               category  discounted_price  \\\n",
       "1279  Home&Kitchen|Kitchen&HomeAppliances|Vacuum,Cle...            2099.0   \n",
       "\n",
       "      actual_price  discount_percentage rating rating_count  \\\n",
       "1279        2499.0                 0.16      |          992   \n",
       "\n",
       "                                          about_product  \\\n",
       "1279  No Installation is provided for this product|1...   \n",
       "\n",
       "                                                user_id  \\\n",
       "1279  AGTDSNT2FKVYEPDPXAA673AIS44A,AER2XFSWNN4LAUCJ5...   \n",
       "\n",
       "                                              user_name  \\\n",
       "1279  Divya,Dr Nefario,Deekshith,Preeti,Prasanth R,P...   \n",
       "\n",
       "                                              review_id  \\\n",
       "1279  R2KKTKM4M9RDVJ,R1O692MZOBTE79,R2WRSEWL56SOS4,R...   \n",
       "\n",
       "                                           review_title  \\\n",
       "1279  Decent product,doesn't pick up sand,Ok ok,Must...   \n",
       "\n",
       "                                         review_content  \\\n",
       "1279  Does the job well,doesn't work on sand. though...   \n",
       "\n",
       "                                               img_link  \\\n",
       "1279  https://m.media-amazon.com/images/W/WEBP_40237...   \n",
       "\n",
       "                                           product_link  \n",
       "1279  https://www.amazon.in/Eureka-Forbes-Vacuum-Cle...  "
      ]
     },
     "execution_count": 28,
     "metadata": {},
     "output_type": "execute_result"
    }
   ],
   "source": [
    "df.query('rating == \"|\"')"
   ]
  },
  {
   "cell_type": "code",
   "execution_count": 52,
   "metadata": {},
   "outputs": [],
   "source": [
    "df['rating'] = df['rating'].str.replace('|','3.9').astype('float64')\n",
    "\n",
    "\n"
   ]
  },
  {
   "cell_type": "code",
   "execution_count": 54,
   "metadata": {},
   "outputs": [
    {
     "name": "stdout",
     "output_type": "stream",
     "text": [
      "<class 'pandas.core.frame.DataFrame'>\n",
      "RangeIndex: 1465 entries, 0 to 1464\n",
      "Data columns (total 16 columns):\n",
      " #   Column               Non-Null Count  Dtype  \n",
      "---  ------               --------------  -----  \n",
      " 0   product_id           1465 non-null   object \n",
      " 1   product_name         1465 non-null   object \n",
      " 2   category             1465 non-null   object \n",
      " 3   discounted_price     1465 non-null   float64\n",
      " 4   actual_price         1465 non-null   float64\n",
      " 5   discount_percentage  1465 non-null   float64\n",
      " 6   rating               1465 non-null   float64\n",
      " 7   rating_count         1463 non-null   object \n",
      " 8   about_product        1465 non-null   object \n",
      " 9   user_id              1465 non-null   object \n",
      " 10  user_name            1465 non-null   object \n",
      " 11  review_id            1465 non-null   object \n",
      " 12  review_title         1465 non-null   object \n",
      " 13  review_content       1465 non-null   object \n",
      " 14  img_link             1465 non-null   object \n",
      " 15  product_link         1465 non-null   object \n",
      "dtypes: float64(4), object(12)\n",
      "memory usage: 183.3+ KB\n"
     ]
    }
   ],
   "source": [
    "df.info()"
   ]
  },
  {
   "cell_type": "code",
   "execution_count": 58,
   "metadata": {},
   "outputs": [],
   "source": [
    "df['rating_count'] = df['rating_count'].str.replace(',','').astype('float64')"
   ]
  },
  {
   "cell_type": "code",
   "execution_count": 59,
   "metadata": {},
   "outputs": [
    {
     "name": "stdout",
     "output_type": "stream",
     "text": [
      "<class 'pandas.core.frame.DataFrame'>\n",
      "RangeIndex: 1465 entries, 0 to 1464\n",
      "Data columns (total 16 columns):\n",
      " #   Column               Non-Null Count  Dtype  \n",
      "---  ------               --------------  -----  \n",
      " 0   product_id           1465 non-null   object \n",
      " 1   product_name         1465 non-null   object \n",
      " 2   category             1465 non-null   object \n",
      " 3   discounted_price     1465 non-null   float64\n",
      " 4   actual_price         1465 non-null   float64\n",
      " 5   discount_percentage  1465 non-null   float64\n",
      " 6   rating               1465 non-null   float64\n",
      " 7   rating_count         1463 non-null   float64\n",
      " 8   about_product        1465 non-null   object \n",
      " 9   user_id              1465 non-null   object \n",
      " 10  user_name            1465 non-null   object \n",
      " 11  review_id            1465 non-null   object \n",
      " 12  review_title         1465 non-null   object \n",
      " 13  review_content       1465 non-null   object \n",
      " 14  img_link             1465 non-null   object \n",
      " 15  product_link         1465 non-null   object \n",
      "dtypes: float64(5), object(11)\n",
      "memory usage: 183.3+ KB\n"
     ]
    }
   ],
   "source": [
    "df.info()"
   ]
  },
  {
   "cell_type": "code",
   "execution_count": 60,
   "metadata": {},
   "outputs": [],
   "source": [
    "####This is Descriptive statistics"
   ]
  },
  {
   "cell_type": "code",
   "execution_count": 61,
   "metadata": {},
   "outputs": [
    {
     "data": {
      "text/html": [
       "<div>\n",
       "<style scoped>\n",
       "    .dataframe tbody tr th:only-of-type {\n",
       "        vertical-align: middle;\n",
       "    }\n",
       "\n",
       "    .dataframe tbody tr th {\n",
       "        vertical-align: top;\n",
       "    }\n",
       "\n",
       "    .dataframe thead th {\n",
       "        text-align: right;\n",
       "    }\n",
       "</style>\n",
       "<table border=\"1\" class=\"dataframe\">\n",
       "  <thead>\n",
       "    <tr style=\"text-align: right;\">\n",
       "      <th></th>\n",
       "      <th>discounted_price</th>\n",
       "      <th>actual_price</th>\n",
       "      <th>discount_percentage</th>\n",
       "      <th>rating</th>\n",
       "      <th>rating_count</th>\n",
       "    </tr>\n",
       "  </thead>\n",
       "  <tbody>\n",
       "    <tr>\n",
       "      <th>count</th>\n",
       "      <td>1465.000000</td>\n",
       "      <td>1465.000000</td>\n",
       "      <td>1465.000000</td>\n",
       "      <td>1465.000000</td>\n",
       "      <td>1463.000000</td>\n",
       "    </tr>\n",
       "    <tr>\n",
       "      <th>mean</th>\n",
       "      <td>3125.310874</td>\n",
       "      <td>5444.990635</td>\n",
       "      <td>0.476915</td>\n",
       "      <td>4.096451</td>\n",
       "      <td>18295.541353</td>\n",
       "    </tr>\n",
       "    <tr>\n",
       "      <th>std</th>\n",
       "      <td>6944.304394</td>\n",
       "      <td>10874.826864</td>\n",
       "      <td>0.216359</td>\n",
       "      <td>0.291620</td>\n",
       "      <td>42753.864952</td>\n",
       "    </tr>\n",
       "    <tr>\n",
       "      <th>min</th>\n",
       "      <td>39.000000</td>\n",
       "      <td>39.000000</td>\n",
       "      <td>0.000000</td>\n",
       "      <td>2.000000</td>\n",
       "      <td>2.000000</td>\n",
       "    </tr>\n",
       "    <tr>\n",
       "      <th>25%</th>\n",
       "      <td>325.000000</td>\n",
       "      <td>800.000000</td>\n",
       "      <td>0.320000</td>\n",
       "      <td>4.000000</td>\n",
       "      <td>1186.000000</td>\n",
       "    </tr>\n",
       "    <tr>\n",
       "      <th>50%</th>\n",
       "      <td>799.000000</td>\n",
       "      <td>1650.000000</td>\n",
       "      <td>0.500000</td>\n",
       "      <td>4.100000</td>\n",
       "      <td>5179.000000</td>\n",
       "    </tr>\n",
       "    <tr>\n",
       "      <th>75%</th>\n",
       "      <td>1999.000000</td>\n",
       "      <td>4295.000000</td>\n",
       "      <td>0.630000</td>\n",
       "      <td>4.300000</td>\n",
       "      <td>17336.500000</td>\n",
       "    </tr>\n",
       "    <tr>\n",
       "      <th>max</th>\n",
       "      <td>77990.000000</td>\n",
       "      <td>139900.000000</td>\n",
       "      <td>0.940000</td>\n",
       "      <td>5.000000</td>\n",
       "      <td>426973.000000</td>\n",
       "    </tr>\n",
       "  </tbody>\n",
       "</table>\n",
       "</div>"
      ],
      "text/plain": [
       "       discounted_price   actual_price  discount_percentage       rating  \\\n",
       "count       1465.000000    1465.000000          1465.000000  1465.000000   \n",
       "mean        3125.310874    5444.990635             0.476915     4.096451   \n",
       "std         6944.304394   10874.826864             0.216359     0.291620   \n",
       "min           39.000000      39.000000             0.000000     2.000000   \n",
       "25%          325.000000     800.000000             0.320000     4.000000   \n",
       "50%          799.000000    1650.000000             0.500000     4.100000   \n",
       "75%         1999.000000    4295.000000             0.630000     4.300000   \n",
       "max        77990.000000  139900.000000             0.940000     5.000000   \n",
       "\n",
       "        rating_count  \n",
       "count    1463.000000  \n",
       "mean    18295.541353  \n",
       "std     42753.864952  \n",
       "min         2.000000  \n",
       "25%      1186.000000  \n",
       "50%      5179.000000  \n",
       "75%     17336.500000  \n",
       "max    426973.000000  "
      ]
     },
     "execution_count": 61,
     "metadata": {},
     "output_type": "execute_result"
    }
   ],
   "source": [
    "df.describe()"
   ]
  },
  {
   "cell_type": "code",
   "execution_count": 62,
   "metadata": {},
   "outputs": [],
   "source": [
    "##### Handling Missing Values"
   ]
  },
  {
   "cell_type": "code",
   "execution_count": 65,
   "metadata": {},
   "outputs": [
    {
     "data": {
      "text/html": [
       "<div>\n",
       "<style scoped>\n",
       "    .dataframe tbody tr th:only-of-type {\n",
       "        vertical-align: middle;\n",
       "    }\n",
       "\n",
       "    .dataframe tbody tr th {\n",
       "        vertical-align: top;\n",
       "    }\n",
       "\n",
       "    .dataframe thead th {\n",
       "        text-align: right;\n",
       "    }\n",
       "</style>\n",
       "<table border=\"1\" class=\"dataframe\">\n",
       "  <thead>\n",
       "    <tr style=\"text-align: right;\">\n",
       "      <th></th>\n",
       "      <th>product_id</th>\n",
       "      <th>product_name</th>\n",
       "      <th>category</th>\n",
       "      <th>discounted_price</th>\n",
       "      <th>actual_price</th>\n",
       "      <th>discount_percentage</th>\n",
       "      <th>rating</th>\n",
       "      <th>rating_count</th>\n",
       "      <th>about_product</th>\n",
       "      <th>user_id</th>\n",
       "      <th>user_name</th>\n",
       "      <th>review_id</th>\n",
       "      <th>review_title</th>\n",
       "      <th>review_content</th>\n",
       "      <th>img_link</th>\n",
       "      <th>product_link</th>\n",
       "    </tr>\n",
       "  </thead>\n",
       "  <tbody>\n",
       "    <tr>\n",
       "      <th>282</th>\n",
       "      <td>B0B94JPY2N</td>\n",
       "      <td>Amazon Brand - Solimo 65W Fast Charging Braide...</td>\n",
       "      <td>Computers&amp;Accessories|Accessories&amp;Peripherals|...</td>\n",
       "      <td>199.0</td>\n",
       "      <td>999.0</td>\n",
       "      <td>0.80</td>\n",
       "      <td>3.0</td>\n",
       "      <td>NaN</td>\n",
       "      <td>USB C to C Cable: This cable has type C connec...</td>\n",
       "      <td>AE7CFHY23VAJT2FI4NZKKP6GS2UQ</td>\n",
       "      <td>Pranav</td>\n",
       "      <td>RUB7U91HVZ30</td>\n",
       "      <td>The cable works but is not 65W as advertised</td>\n",
       "      <td>I have a pd supported car charger and I bought...</td>\n",
       "      <td>https://m.media-amazon.com/images/W/WEBP_40237...</td>\n",
       "      <td>https://www.amazon.in/Amazon-Brand-Charging-Su...</td>\n",
       "    </tr>\n",
       "    <tr>\n",
       "      <th>324</th>\n",
       "      <td>B0BQRJ3C47</td>\n",
       "      <td>REDTECH USB-C to Lightning Cable 3.3FT, [Apple...</td>\n",
       "      <td>Computers&amp;Accessories|Accessories&amp;Peripherals|...</td>\n",
       "      <td>249.0</td>\n",
       "      <td>999.0</td>\n",
       "      <td>0.75</td>\n",
       "      <td>5.0</td>\n",
       "      <td>NaN</td>\n",
       "      <td>💎[The Fastest Charge] - This iPhone USB C cabl...</td>\n",
       "      <td>AGJC5O5H5BBXWUV7WRIEIOOR3TVQ</td>\n",
       "      <td>Abdul Gafur</td>\n",
       "      <td>RQXD5SAMMPC6L</td>\n",
       "      <td>Awesome Product</td>\n",
       "      <td>Quick delivery.Awesome ProductPacking was good...</td>\n",
       "      <td>https://m.media-amazon.com/images/I/31-q0xhaTA...</td>\n",
       "      <td>https://www.amazon.in/REDTECH-Lightning-Certif...</td>\n",
       "    </tr>\n",
       "  </tbody>\n",
       "</table>\n",
       "</div>"
      ],
      "text/plain": [
       "     product_id                                       product_name  \\\n",
       "282  B0B94JPY2N  Amazon Brand - Solimo 65W Fast Charging Braide...   \n",
       "324  B0BQRJ3C47  REDTECH USB-C to Lightning Cable 3.3FT, [Apple...   \n",
       "\n",
       "                                              category  discounted_price  \\\n",
       "282  Computers&Accessories|Accessories&Peripherals|...             199.0   \n",
       "324  Computers&Accessories|Accessories&Peripherals|...             249.0   \n",
       "\n",
       "     actual_price  discount_percentage  rating  rating_count  \\\n",
       "282         999.0                 0.80     3.0           NaN   \n",
       "324         999.0                 0.75     5.0           NaN   \n",
       "\n",
       "                                         about_product  \\\n",
       "282  USB C to C Cable: This cable has type C connec...   \n",
       "324  💎[The Fastest Charge] - This iPhone USB C cabl...   \n",
       "\n",
       "                          user_id    user_name      review_id  \\\n",
       "282  AE7CFHY23VAJT2FI4NZKKP6GS2UQ       Pranav   RUB7U91HVZ30   \n",
       "324  AGJC5O5H5BBXWUV7WRIEIOOR3TVQ  Abdul Gafur  RQXD5SAMMPC6L   \n",
       "\n",
       "                                     review_title  \\\n",
       "282  The cable works but is not 65W as advertised   \n",
       "324                               Awesome Product   \n",
       "\n",
       "                                        review_content  \\\n",
       "282  I have a pd supported car charger and I bought...   \n",
       "324  Quick delivery.Awesome ProductPacking was good...   \n",
       "\n",
       "                                              img_link  \\\n",
       "282  https://m.media-amazon.com/images/W/WEBP_40237...   \n",
       "324  https://m.media-amazon.com/images/I/31-q0xhaTA...   \n",
       "\n",
       "                                          product_link  \n",
       "282  https://www.amazon.in/Amazon-Brand-Charging-Su...  \n",
       "324  https://www.amazon.in/REDTECH-Lightning-Certif...  "
      ]
     },
     "execution_count": 65,
     "metadata": {},
     "output_type": "execute_result"
    }
   ],
   "source": [
    "df[df['rating_count'].isnull()]"
   ]
  },
  {
   "cell_type": "code",
   "execution_count": 67,
   "metadata": {},
   "outputs": [],
   "source": [
    "df['rating_count'] = df['rating_count'].fillna(df['rating_count'].median())"
   ]
  },
  {
   "cell_type": "code",
   "execution_count": 70,
   "metadata": {},
   "outputs": [
    {
     "name": "stdout",
     "output_type": "stream",
     "text": [
      "<class 'pandas.core.frame.DataFrame'>\n",
      "RangeIndex: 1465 entries, 0 to 1464\n",
      "Data columns (total 16 columns):\n",
      " #   Column               Non-Null Count  Dtype  \n",
      "---  ------               --------------  -----  \n",
      " 0   product_id           1465 non-null   object \n",
      " 1   product_name         1465 non-null   object \n",
      " 2   category             1465 non-null   object \n",
      " 3   discounted_price     1465 non-null   float64\n",
      " 4   actual_price         1465 non-null   float64\n",
      " 5   discount_percentage  1465 non-null   float64\n",
      " 6   rating               1465 non-null   float64\n",
      " 7   rating_count         1465 non-null   float64\n",
      " 8   about_product        1465 non-null   object \n",
      " 9   user_id              1465 non-null   object \n",
      " 10  user_name            1465 non-null   object \n",
      " 11  review_id            1465 non-null   object \n",
      " 12  review_title         1465 non-null   object \n",
      " 13  review_content       1465 non-null   object \n",
      " 14  img_link             1465 non-null   object \n",
      " 15  product_link         1465 non-null   object \n",
      "dtypes: float64(5), object(11)\n",
      "memory usage: 183.3+ KB\n"
     ]
    }
   ],
   "source": [
    "df.info()"
   ]
  },
  {
   "cell_type": "code",
   "execution_count": 72,
   "metadata": {},
   "outputs": [],
   "source": [
    "##### Duplicates"
   ]
  },
  {
   "cell_type": "code",
   "execution_count": 77,
   "metadata": {},
   "outputs": [
    {
     "data": {
      "text/plain": [
       "0       False\n",
       "1       False\n",
       "2       False\n",
       "3       False\n",
       "4       False\n",
       "        ...  \n",
       "1460    False\n",
       "1461    False\n",
       "1462    False\n",
       "1463    False\n",
       "1464    False\n",
       "Length: 1465, dtype: bool"
      ]
     },
     "execution_count": 77,
     "metadata": {},
     "output_type": "execute_result"
    }
   ],
   "source": [
    "df.duplicated() == True"
   ]
  },
  {
   "cell_type": "code",
   "execution_count": 78,
   "metadata": {},
   "outputs": [],
   "source": [
    "#### Data Visualization"
   ]
  },
  {
   "cell_type": "code",
   "execution_count": 79,
   "metadata": {},
   "outputs": [
    {
     "data": {
      "text/plain": [
       "<Axes: xlabel='actual_price', ylabel='rating'>"
      ]
     },
     "execution_count": 79,
     "metadata": {},
     "output_type": "execute_result"
    },
    {
     "data": {
      "image/png": "[encoded data removed]",
      "text/plain": [
       "<Figure size 640x480 with 1 Axes>"
      ]
     },
     "metadata": {},
     "output_type": "display_data"
    }
   ],
   "source": [
    "#### actual price vs Rating\n",
    "\n",
    "sns.scatterplot(x='actual_price',y='rating',data=df)"
   ]
  },
  {
   "cell_type": "code",
   "execution_count": 86,
   "metadata": {},
   "outputs": [
    {
     "data": {
      "text/plain": [
       "(0.0, 5000.0)"
      ]
     },
     "execution_count": 86,
     "metadata": {},
     "output_type": "execute_result"
    },
    {
     "data": {
      "image/png": "[encoded data removed]",
      "text/plain": [
       "<Figure size 640x480 with 1 Axes>"
      ]
     },
     "metadata": {},
     "output_type": "display_data"
    }
   ],
   "source": [
    "#### Distribution of actual price\n",
    "sns.histplot(x='actual_price',data=df,bins=1000)\n",
    "plt.xlim(0,5000)"
   ]
  },
  {
   "cell_type": "code",
   "execution_count": 88,
   "metadata": {},
   "outputs": [],
   "source": [
    "##### Grouping and Aggregation"
   ]
  },
  {
   "cell_type": "code",
   "execution_count": 90,
   "metadata": {},
   "outputs": [
    {
     "data": {
      "text/plain": [
       "category\n",
       "Computers&Accessories|Accessories&Peripherals|Cables&Accessories|Cables|USBCables                                          233\n",
       "Electronics|WearableTechnology|SmartWatches                                                                                 76\n",
       "Electronics|Mobiles&Accessories|Smartphones&BasicMobiles|Smartphones                                                        68\n",
       "Electronics|HomeTheater,TV&Video|Televisions|SmartTelevisions                                                               63\n",
       "Electronics|Headphones,Earbuds&Accessories|Headphones|In-Ear                                                                52\n",
       "                                                                                                                          ... \n",
       "Electronics|Cameras&Photography|Accessories|Batteries&Chargers|BatteryChargers                                               1\n",
       "Computers&Accessories|NetworkingDevices|DataCards&Dongles                                                                    1\n",
       "Electronics|HomeAudio|Speakers|MultimediaSpeakerSystems                                                                      1\n",
       "OfficeProducts|OfficePaperProducts|Paper|Copy&PrintingPaper|ColouredPaper                                                    1\n",
       "Home&Kitchen|Kitchen&HomeAppliances|Vacuum,Cleaning&Ironing|Vacuums&FloorCare|VacuumAccessories|VacuumBags|HandheldBags      1\n",
       "Name: count, Length: 211, dtype: int64"
      ]
     },
     "execution_count": 90,
     "metadata": {},
     "output_type": "execute_result"
    }
   ],
   "source": [
    "df['category'].value_counts()"
   ]
  },
  {
   "cell_type": "code",
   "execution_count": 93,
   "metadata": {},
   "outputs": [],
   "source": [
    "##### Calculate Summary statistics for groups\n"
   ]
  },
  {
   "cell_type": "code",
   "execution_count": 96,
   "metadata": {},
   "outputs": [
    {
     "name": "stdout",
     "output_type": "stream",
     "text": [
      "category\n",
      "Car&Motorbike|CarAccessories|InteriorAccessories|AirPurifiers&Ionizers                                                    3.800000\n",
      "Computers&Accessories|Accessories&Peripherals|Adapters|USBtoUSBAdapters                                                   4.150000\n",
      "Computers&Accessories|Accessories&Peripherals|Audio&VideoAccessories|PCHeadsets                                           3.500000\n",
      "Computers&Accessories|Accessories&Peripherals|Audio&VideoAccessories|PCMicrophones                                        3.600000\n",
      "Computers&Accessories|Accessories&Peripherals|Audio&VideoAccessories|PCSpeakers                                           4.050000\n",
      "                                                                                                                            ...   \n",
      "OfficeProducts|OfficePaperProducts|Paper|Stationery|Pens,Pencils&WritingSupplies|Pens&Refills|GelInkRollerballPens        4.250000\n",
      "OfficeProducts|OfficePaperProducts|Paper|Stationery|Pens,Pencils&WritingSupplies|Pens&Refills|LiquidInkRollerballPens     4.150000\n",
      "OfficeProducts|OfficePaperProducts|Paper|Stationery|Pens,Pencils&WritingSupplies|Pens&Refills|RetractableBallpointPens    4.300000\n",
      "OfficeProducts|OfficePaperProducts|Paper|Stationery|Pens,Pencils&WritingSupplies|Pens&Refills|StickBallpointPens          4.133333\n",
      "Toys&Games|Arts&Crafts|Drawing&PaintingSupplies|ColouringPens&Markers                                                     4.300000\n",
      "Name: rating, Length: 211, dtype: float64\n",
      "product_name\n",
      "!!1000 Watt/2000-Watt Room Heater!! Fan Heater!!Pure White!!HN-2500!!Made in India!!                                                                                                                        NaN\n",
      "!!HANEUL!!1000 Watt/2000-Watt Room Heater!! Fan Heater!!Pure White!!HN-2500!!Made in India!!Thermoset!!                                                                                                     NaN\n",
      "10WeRun Id-116 Bluetooth Smartwatch Wireless Fitness Band for Boys, Girls, Men, Women & Kids | Sports Gym Watch for All Smart Phones I Heart Rate and spo2 Monitor                                          NaN\n",
      "10k 8k 4k HDMI Cable, Certified 48Gbps 1ms Ultra High Speed HDMI 2.1 Cable 4k 120Hz 144Hz 2k 165Hz 8k 60Hz Dynamic HDR ARC eARC DTS:X Compatible for Mac Gaming PC Soundbar TV Monitor Laptop PS5 4 Xbox    NaN\n",
      "3M Post-it Sticky Note Cube, 200 Sheets (4 Colors x 50 Sheets) | 3\" x 3\" Size | For notes, reminders, study, school and organizing                                                                          NaN\n",
      "                                                                                                                                                                                                           ... \n",
      "realme Buds Wireless in Ear Bluetooth Earphones with mic, 11.2mm Bass Boost Driver, Magnetic Fast Pair, Fast Charging and 12 Hrs Playtime (Yellow)                                                          NaN\n",
      "realme narzo 50 (Speed Blue, 4GB RAM+64GB Storage) Helio G96 Processor | 50MP AI Triple Camera | 120Hz Ultra Smooth Display                                                                                 NaN\n",
      "realme narzo 50i (Mint Green, 2GB RAM+32GB Storage) Octa Core Processor | 6.5\" inch Large Display                                                                                                           NaN\n",
      "rts [2 Pack] Mini USB C Type C Adapter Plug, Type C Female to USB A Male Charger Charging Cable Adapter Converter compatible for iPhone, Samsung S20 ultra/S21/S10/S8/S9/MacBook Pro iPad Silver            NaN\n",
      "tizum HDMI to VGA Adapter Cable 1080P for Projector, Computer, Laptop, TV, Projectors & TV                                                                                                                  0.0\n",
      "Name: actual_price, Length: 1337, dtype: float64\n"
     ]
    }
   ],
   "source": [
    "#### mean rating by Category\n",
    "print(df.groupby('category')['rating'].mean())\n",
    "\n",
    "print(df.groupby('product_name')['actual_price'].std())"
   ]
  },
  {
   "cell_type": "code",
   "execution_count": 105,
   "metadata": {},
   "outputs": [
    {
     "name": "stdout",
     "output_type": "stream",
     "text": [
      "     product_id                                       product_name  \\\n",
      "0    B0912WJ87V  Reffair AX30 [MAX] Portable Air Purifier for C...   \n",
      "1    B097C564GC  rts [2 Pack] Mini USB C Type C Adapter Plug, T...   \n",
      "2    B094DQWV9B  Kanget [2 Pack] Type C Female to USB A Male Ch...   \n",
      "3    B009LJ2BXA  Hp Wired On Ear Headphones With Mic With 3.5 M...   \n",
      "4    B08SCCG9D4  JBL Commercial CSLM20B Auxiliary Omnidirection...   \n",
      "..          ...                                                ...   \n",
      "815  B00LOD70SC  Pilot V7 Liquid Ink Roller Ball Pen (2 Blue + ...   \n",
      "816  B07SBGFDX9     Pentonic Multicolor Ball Point Pen, Pack of 10   \n",
      "817  B00LZPQVMK  Parker Vector Standard Chrome Trim Ball Pen (I...   \n",
      "818  B0746N6WML  Parker Vector Camouflage Gift Set - Roller Bal...   \n",
      "819  B00DJ5N9VK  Faber-Castell Connector Pen Set - Pack of 25 (...   \n",
      "\n",
      "                                              category  discounted_price  \\\n",
      "0    Car&Motorbike|CarAccessories|InteriorAccessori...            2339.0   \n",
      "1    Computers&Accessories|Accessories&Peripherals|...             294.0   \n",
      "2    Computers&Accessories|Accessories&Peripherals|...             149.0   \n",
      "3    Computers&Accessories|Accessories&Peripherals|...             649.0   \n",
      "4    Computers&Accessories|Accessories&Peripherals|...             949.0   \n",
      "..                                                 ...               ...   \n",
      "815  OfficeProducts|OfficePaperProducts|Paper|Stati...             178.0   \n",
      "816  OfficeProducts|OfficePaperProducts|Paper|Stati...             120.0   \n",
      "817  OfficeProducts|OfficePaperProducts|Paper|Stati...             272.0   \n",
      "818  OfficeProducts|OfficePaperProducts|Paper|Stati...             341.0   \n",
      "819  Toys&Games|Arts&Crafts|Drawing&PaintingSupplie...             150.0   \n",
      "\n",
      "     actual_price  discount_percentage  rating  rating_count  \\\n",
      "0          4000.0                 0.42     3.8        1118.0   \n",
      "1          4999.0                 0.94     4.3        4426.0   \n",
      "2           399.0                 0.63     4.0        1540.0   \n",
      "3           999.0                 0.35     3.5        7222.0   \n",
      "4          2000.0                 0.53     3.9       14969.0   \n",
      "..            ...                  ...     ...           ...   \n",
      "815         210.0                 0.15     4.3        2450.0   \n",
      "816         120.0                 0.00     4.1        4308.0   \n",
      "817         320.0                 0.15     4.0        3686.0   \n",
      "818         450.0                 0.24     4.3        2493.0   \n",
      "819         150.0                 0.00     4.3       15867.0   \n",
      "\n",
      "                                         about_product  \\\n",
      "0    [NEW LAUNCH - INNOVATIVE DESIGN] EFFICIENT PUR...   \n",
      "1    【WIDER COMPATIBILITY】This USB C Female to USB ...   \n",
      "2    👍【USB C TO USB ADAPTER】-This is a USB C FEMALE...   \n",
      "3    Powerful bass and clear treble sounds|Wired co...   \n",
      "4    Omnidirectional pickup pattern|3.5mm TRRS jack...   \n",
      "..                                                 ...   \n",
      "815  Unique 3 dimple tip technology from Japan for ...   \n",
      "816  0.7 mm tip size|Black Body, Multicolor Ink(Bla...   \n",
      "817  A solid plastic body of the glossy black desig...   \n",
      "818  This charming looking pen is made up of ABS pl...   \n",
      "819  Simply draw and color or clip these pens toget...   \n",
      "\n",
      "                                               user_id  \\\n",
      "0    AG6W5HESRSDLBX3NCYOOUGFOWERA,AED4U5CF37HVSYPMD...   \n",
      "1    AGO5SRT3ESLNL5WTRQFD5BSIYPQA,AGGNODUMRADB3PQQT...   \n",
      "2    AFA6YM4NTFRGHHKYN5U7HUYEVSUA,AEB3EVUTQCHIE3PGI...   \n",
      "3    AFIZUD4UBB67LGWY6CVLRHKA75IA,AG2TD3527KNZZNE46...   \n",
      "4    AFROXVCIF6PZXFXLS7DLTPT2CGCQ,AHA4ODJMDNBNUVEUS...   \n",
      "..                                                 ...   \n",
      "815  AG3G7G2DUJKN5YMCOYZNCADKKJUQ,AH44B2X6AT45J37MH...   \n",
      "816  AGK76H5VGHDWFQD7JTHVKZNQ5BHA,AHWXK2FU23OBRZZUA...   \n",
      "817  AE3S2ZAEMH765KUJ57DR6HBZBB3Q,AHSIVUNTJMI5S5AJG...   \n",
      "818  AFVTO4K2IG5AYWZPOAEA2QGPZZ4A,AHWTCTHLUKPJP2IUI...   \n",
      "819  AE5D3EMPETKIA4VU4SZU5UIHXKQA,AFF76KWKCMR6GNPUX...   \n",
      "\n",
      "                                             user_name  \\\n",
      "0    Arivazhagan,Ajit,swanand pandit,Venkatesh S.,S...   \n",
      "1    Naga Sai Gadagottu,Neha Sharma,Amazon Customer...   \n",
      "2    Abhi_K,Amazon Customer,Swap,shivam,Abhinav Sin...   \n",
      "3    Deepthi,Nitin Mishra,Raju Chacko,A.VISWANATHAR...   \n",
      "4    Ansh KaTariA,Saqlain Shaikh,Sardar V.,Rushikes...   \n",
      "..                                                 ...   \n",
      "815  Madhusmita singh,Sandeep Singh,Jay OG,Asim,Vik...   \n",
      "816  Parul S.,Prateek Tiwari,kateriki,golla ramesh,...   \n",
      "817  Fardeen mujawar,Pavan,Danny,Siddhartha Pratap,...   \n",
      "818  Good,Aayush,Nupur Gupta,Gunjan Sengupta,Syed T...   \n",
      "819  Aradhna Aadhya,sonali ghosh,Sam,VGRK,Surfer007...   \n",
      "\n",
      "                                             review_id  \\\n",
      "0    R3TOOFPX256D59,R1PR50BDQOEIIO,R392FI4QWXWOX5,R...   \n",
      "1    R3CUNCZTU43JPP,RSO46BN8S4OSU,R2UD5D7T4DZRE5,R2...   \n",
      "2    R1QIWMR6C3F3U0,R1MSGOZTOMZE4B,R20OZCEE82GU0W,R...   \n",
      "3    R392ZYXC6D3GY0,R1MJHZXZ09ETAE,R20PJKJTCF9RXN,R...   \n",
      "4    R20M6JOASW88SS,RPM4RV2MQNNN0,R19KRP5SDTN2NL,R1...   \n",
      "..                                                 ...   \n",
      "815  R1AY8EXPHPWDDR,R24503W0UJGTMU,R27P97SD5T4MUX,R...   \n",
      "816  R1FXYA8WISUWTK,R2C5SUFAIFCKV9,RD87PA0KNH3GQ,R1...   \n",
      "817  RD6OIJUG0R241,R3EUJ7A6LG8X7V,R1DWGT4USEVGYK,R1...   \n",
      "818  R37OWPWWYU7L3G,R2AQ3J8DYODY55,RA0RPO7G5XXOL,R1...   \n",
      "819  R39PYNXMLNEIYW,R3AMNR0LJWNAUU,R2P5M80U8OL9OQ,R...   \n",
      "\n",
      "                                          review_title  \\\n",
      "0    Liked it,User friendly and effective,Not as pe...   \n",
      "1    Tiny helping hand,Good product,As a whole good...   \n",
      "2    Good and does it’s work,Nice product working a...   \n",
      "3    Headset,Overall a good product. Sound quality ...   \n",
      "4    It's just good !,Good for WFH,Works according ...   \n",
      "..                                                 ...   \n",
      "815  It's good,Good,One of the few items on amazon ...   \n",
      "816  Average,I like the 'Pentonic' pens,which is wh...   \n",
      "817  Ok,Like all other ball pens,Regular pen over p...   \n",
      "818  Good,Made for special ones,Good Product,Awesom...   \n",
      "819  As this was my 2nd order for same product.2nd ...   \n",
      "\n",
      "                                        review_content  \\\n",
      "0    As of now its working fine, but don't expect m...   \n",
      "1    This eliminates the need to buy chargers for t...   \n",
      "2    Using it to connect my type C Plantronic headp...   \n",
      "3    Not a perfect fit for long usage,One problem y...   \n",
      "4    It just good for beginners you can start your ...   \n",
      "..                                                 ...   \n",
      "815  Everything is fine but it's bit dark and stick...   \n",
      "816  It's good, but they give 2 different shades of...   \n",
      "817  Can buy but only when price is less,It's not t...   \n",
      "818  Good,Amazing,Nice pen and keychain,I just live...   \n",
      "819  Torn packing.dekhne me product used lg rha tha...   \n",
      "\n",
      "                                              img_link  \\\n",
      "0    https://m.media-amazon.com/images/W/WEBP_40237...   \n",
      "1    https://m.media-amazon.com/images/W/WEBP_40237...   \n",
      "2    https://m.media-amazon.com/images/W/WEBP_40237...   \n",
      "3    https://m.media-amazon.com/images/I/31eE6slx4E...   \n",
      "4    https://m.media-amazon.com/images/I/41U9-x0JGP...   \n",
      "..                                                 ...   \n",
      "815  https://m.media-amazon.com/images/I/31pJvN8OkS...   \n",
      "816  https://m.media-amazon.com/images/I/410DCX0vt4...   \n",
      "817  https://m.media-amazon.com/images/W/WEBP_40237...   \n",
      "818  https://m.media-amazon.com/images/W/WEBP_40237...   \n",
      "819  https://m.media-amazon.com/images/I/41rJGx-w9i...   \n",
      "\n",
      "                                          product_link  \n",
      "0    https://www.amazon.in/Reffair-AX30-MAX-Interna...  \n",
      "1    https://www.amazon.in/rts-Adapter-Charging-Con...  \n",
      "2    https://www.amazon.in/Kanget-Female-Adapter-St...  \n",
      "3    https://www.amazon.in/HP-B4B09PA-Headphones-wi...  \n",
      "4    https://www.amazon.in/JBL-Commercial-Omnidirec...  \n",
      "..                                                 ...  \n",
      "815  https://www.amazon.in/Pilot-Liquid-Roller-Ball...  \n",
      "816  https://www.amazon.in/Linc-Ball-Point-Pentonic...  \n",
      "817  https://www.amazon.in/Parker-Vector-Standard-B...  \n",
      "818  https://www.amazon.in/Parker-Vector-Camouflage...  \n",
      "819  https://www.amazon.in/Faber-Castell-Connector-...  \n",
      "\n",
      "[820 rows x 16 columns]\n"
     ]
    },
    {
     "name": "stderr",
     "output_type": "stream",
     "text": [
      "/var/folders/rx/q737z_cn6xn92nqgm450gk6h0000gn/T/ipykernel_38322/3916858614.py:3: DeprecationWarning: DataFrameGroupBy.apply operated on the grouping columns. This behavior is deprecated, and in a future version of pandas the grouping columns will be excluded from the operation. Either pass `include_groups=False` to exclude the groupings or explicitly select the grouping columns after groupby to silence this warning.\n",
      "  top_reviewed_per_category = df.groupby('category').apply(lambda x : x.nlargest(10,'rating_count')).reset_index(drop=True)\n"
     ]
    }
   ],
   "source": [
    "### Top rating count products by each category\n",
    "\n",
    "top_reviewed_per_category = df.groupby('category').apply(lambda x : x.nlargest(10,'rating_count')).reset_index(drop=True)\n",
    "print(top_reviewed_per_category)"
   ]
  },
  {
   "cell_type": "code",
   "execution_count": 107,
   "metadata": {},
   "outputs": [
    {
     "data": {
      "text/plain": [
       "<Axes: >"
      ]
     },
     "execution_count": 107,
     "metadata": {},
     "output_type": "execute_result"
    },
    {
     "data": {
      "image/png": "[encoded data removed]",
      "text/plain": [
       "<Figure size 640x480 with 1 Axes>"
      ]
     },
     "metadata": {},
     "output_type": "display_data"
    }
   ],
   "source": [
    "#### Discounted_price vs Actual_price\n",
    "\n",
    "df['discounted_price'].hist()\n"
   ]
  },
  {
   "cell_type": "code",
   "execution_count": 108,
   "metadata": {},
   "outputs": [
    {
     "data": {
      "text/plain": [
       "<Axes: >"
      ]
     },
     "execution_count": 108,
     "metadata": {},
     "output_type": "execute_result"
    },
    {
     "data": {
      "image/png": "[encoded data removed]",
      "text/plain": [
       "<Figure size 640x480 with 1 Axes>"
      ]
     },
     "metadata": {},
     "output_type": "display_data"
    }
   ],
   "source": [
    "df['actual_price'].hist()"
   ]
  },
  {
   "cell_type": "code",
   "execution_count": 109,
   "metadata": {},
   "outputs": [
    {
     "data": {
      "text/plain": [
       "np.float64(799.0)"
      ]
     },
     "execution_count": 109,
     "metadata": {},
     "output_type": "execute_result"
    }
   ],
   "source": [
    "df['discounted_price'].median()"
   ]
  },
  {
   "cell_type": "code",
   "execution_count": 110,
   "metadata": {},
   "outputs": [
    {
     "data": {
      "text/plain": [
       "np.float64(1650.0)"
      ]
     },
     "execution_count": 110,
     "metadata": {},
     "output_type": "execute_result"
    }
   ],
   "source": [
    "df['actual_price'].median()"
   ]
  },
  {
   "cell_type": "code",
   "execution_count": 111,
   "metadata": {},
   "outputs": [
    {
     "data": {
      "text/plain": [
       "<Axes: >"
      ]
     },
     "execution_count": 111,
     "metadata": {},
     "output_type": "execute_result"
    },
    {
     "data": {
      "image/png": "[encoded data removed]",
      "text/plain": [
       "<Figure size 640x480 with 1 Axes>"
      ]
     },
     "metadata": {},
     "output_type": "display_data"
    }
   ],
   "source": [
    "df['discount_percentage'].hist()"
   ]
  },
  {
   "cell_type": "code",
   "execution_count": 115,
   "metadata": {},
   "outputs": [
    {
     "data": {
      "text/plain": [
       "category\n",
       "Electronics|Mobiles&Accessories|MobileAccessories|Décor|PhoneCharms                                              0.900\n",
       "Computers&Accessories|Accessories&Peripherals|Cables&Accessories|CableConnectionProtectors                       0.900\n",
       "Electronics|Headphones,Earbuds&Accessories|Earpads                                                               0.900\n",
       "Electronics|Headphones,Earbuds&Accessories|Adapters                                                              0.880\n",
       "Computers&Accessories|Accessories&Peripherals|Keyboards,Mice&InputDevices|Keyboard&MiceAccessories|DustCovers    0.875\n",
       "Electronics|Mobiles&Accessories|MobileAccessories|Mounts|Shower&WallMounts                                       0.820\n",
       "Computers&Accessories|Components|InternalHardDrives                                                              0.800\n",
       "Computers&Accessories|Accessories&Peripherals|Adapters|USBtoUSBAdapters                                          0.785\n",
       "Electronics|Mobiles&Accessories|MobileAccessories|Stands                                                         0.764\n",
       "Electronics|Headphones,Earbuds&Accessories|Cases                                                                 0.760\n",
       "Name: discount_percentage, dtype: float64"
      ]
     },
     "execution_count": 115,
     "metadata": {},
     "output_type": "execute_result"
    }
   ],
   "source": [
    "#### Average Discount percentage per Category\n",
    "\n",
    "df.groupby('category')['discount_percentage'].mean().sort_values(ascending=False).head(10)"
   ]
  },
  {
   "cell_type": "code",
   "execution_count": 119,
   "metadata": {},
   "outputs": [
    {
     "data": {
      "text/plain": [
       "product_name\n",
       "Fire-Boltt Ninja Call Pro Plus 1.83\" Smart Watch with Bluetooth Calling, AI Voice Assistance, 100 Sports Modes IP67 Rating, 240*280 Pixel High Resolution                                                  5\n",
       "Fire-Boltt Phoenix Smart Watch with Bluetooth Calling 1.3\",120+ Sports Modes, 240*240 PX High Res with SpO2, Heart Rate Monitoring & IP67 Rating                                                           4\n",
       "Ambrane 2 in 1 Type-C & Micro USB Cable with 60W / 3A Fast Charging, 480 mbps High Data, PD Technology & Quick Charge 3.0, Compatible with All Type-C & Micro USB Devices (ABDC-10, Black)                 3\n",
       "Pinnaclz Original Combo of 2 Micro USB Fast Charging Cable, USB Charging Cable for Data Transfer Perfect for Android Smart Phones White 1.2 Meter Made in India (Pack of 2)                                3\n",
       "Portronics Konnect L POR-1081 Fast Charging 3A Type-C Cable 1.2Meter with Charge & Sync Function for All Type-C Devices (Grey)                                                                             3\n",
       "boAt Micro USB 55 Tangle-free, Sturdy Micro USB Cable with 3A Fast Charging & 480mbps Data Transmission (Black)                                                                                            3\n",
       "MI Usb Type-C Cable Smartphone (Black)                                                                                                                                                                     3\n",
       "pTron Solero TB301 3A Type-C Data and Fast Charging Cable, Made in India, 480Mbps Data Sync, Strong and Durable 1.5-Meter Nylon Braided USB Cable for Type-C Devices for Charging Adapter (Black)          3\n",
       "Portronics Konnect L 1.2M Fast Charging 3A 8 Pin USB Cable with Charge & Sync Function for iPhone, iPad (Grey)                                                                                             3\n",
       "boAt Deuce USB 300 2 in 1 Type-C & Micro USB Stress Resistant, Tangle-Free, Sturdy Cable with 3A Fast Charging & 480mbps Data Transmission, 10000+ Bends Lifespan and Extended 1.5m Length(Martian Red)    3\n",
       "Name: count, dtype: int64"
      ]
     },
     "execution_count": 119,
     "metadata": {},
     "output_type": "execute_result"
    }
   ],
   "source": [
    "#### Most Popular Product\n",
    "\n",
    "df['product_name'].value_counts().sort_values(ascending=False).head(10)"
   ]
  },
  {
   "cell_type": "code",
   "execution_count": 123,
   "metadata": {},
   "outputs": [
    {
     "ename": "ImportError",
     "evalue": "cannot import name 'textblob' from 'textblob' (/Library/Frameworks/Python.framework/Versions/3.13/lib/python3.13/site-packages/textblob/__init__.py)",
     "output_type": "error",
     "traceback": [
      "\u001b[31m---------------------------------------------------------------------------\u001b[39m",
      "\u001b[31mImportError\u001b[39m                               Traceback (most recent call last)",
      "\u001b[36mCell\u001b[39m\u001b[36m \u001b[39m\u001b[32mIn[123]\u001b[39m\u001b[32m, line 1\u001b[39m\n\u001b[32m----> \u001b[39m\u001b[32m1\u001b[39m \u001b[38;5;28;01mfrom\u001b[39;00m\u001b[38;5;250m \u001b[39m\u001b[34;01mtextblob\u001b[39;00m\u001b[38;5;250m \u001b[39m\u001b[38;5;28;01mimport\u001b[39;00m textblob\n",
      "\u001b[31mImportError\u001b[39m: cannot import name 'textblob' from 'textblob' (/Library/Frameworks/Python.framework/Versions/3.13/lib/python3.13/site-packages/textblob/__init__.py)"
     ]
    }
   ],
   "source": [
    "from textblob import textblob"
   ]
  },
  {
   "cell_type": "code",
   "execution_count": null,
   "metadata": {},
   "outputs": [],
   "source": [
    "###!pip install -U Textblob"
   ]
  },
  {
   "cell_type": "code",
   "execution_count": 125,
   "metadata": {},
   "outputs": [],
   "source": [
    "from textblob import TextBlob"
   ]
  },
  {
   "cell_type": "code",
   "execution_count": 126,
   "metadata": {},
   "outputs": [
    {
     "data": {
      "text/html": [
       "<div>\n",
       "<style scoped>\n",
       "    .dataframe tbody tr th:only-of-type {\n",
       "        vertical-align: middle;\n",
       "    }\n",
       "\n",
       "    .dataframe tbody tr th {\n",
       "        vertical-align: top;\n",
       "    }\n",
       "\n",
       "    .dataframe thead th {\n",
       "        text-align: right;\n",
       "    }\n",
       "</style>\n",
       "<table border=\"1\" class=\"dataframe\">\n",
       "  <thead>\n",
       "    <tr style=\"text-align: right;\">\n",
       "      <th></th>\n",
       "      <th>product_id</th>\n",
       "      <th>user_id</th>\n",
       "      <th>review_content</th>\n",
       "    </tr>\n",
       "  </thead>\n",
       "  <tbody>\n",
       "    <tr>\n",
       "      <th>0</th>\n",
       "      <td>B07JW9H4J1</td>\n",
       "      <td>AG3D6O4STAQKAY2UVGEUV46KN35Q,AHMY5CWJMMK5BJRBB...</td>\n",
       "      <td>Looks durable Charging is fine tooNo complains...</td>\n",
       "    </tr>\n",
       "    <tr>\n",
       "      <th>1</th>\n",
       "      <td>B098NS6PVG</td>\n",
       "      <td>AECPFYFQVRUWC3KGNLJIOREFP5LQ,AGYYVPDD7YG7FYNBX...</td>\n",
       "      <td>I ordered this cable to connect my phone to An...</td>\n",
       "    </tr>\n",
       "    <tr>\n",
       "      <th>2</th>\n",
       "      <td>B096MSW6CT</td>\n",
       "      <td>AGU3BBQ2V2DDAMOAKGFAWDDQ6QHA,AESFLDV2PT363T2AQ...</td>\n",
       "      <td>Not quite durable and sturdy,https://m.media-a...</td>\n",
       "    </tr>\n",
       "    <tr>\n",
       "      <th>3</th>\n",
       "      <td>B08HDJ86NZ</td>\n",
       "      <td>AEWAZDZZJLQUYVOVGBEUKSLXHQ5A,AG5HTSFRRE6NL3M5S...</td>\n",
       "      <td>Good product,long wire,Charges good,Nice,I bou...</td>\n",
       "    </tr>\n",
       "    <tr>\n",
       "      <th>4</th>\n",
       "      <td>B08CF3B7N1</td>\n",
       "      <td>AE3Q6KSUK5P75D5HFYHCRAOLODSA,AFUGIFH5ZAFXRDSZH...</td>\n",
       "      <td>Bought this instead of original apple, does th...</td>\n",
       "    </tr>\n",
       "    <tr>\n",
       "      <th>...</th>\n",
       "      <td>...</td>\n",
       "      <td>...</td>\n",
       "      <td>...</td>\n",
       "    </tr>\n",
       "    <tr>\n",
       "      <th>1460</th>\n",
       "      <td>B08L7J3T31</td>\n",
       "      <td>AHITFY6AHALOFOHOZEOC6XBP4FEA,AFRABBODZJZQB6Z4U...</td>\n",
       "      <td>I received product without spanner,Excellent p...</td>\n",
       "    </tr>\n",
       "    <tr>\n",
       "      <th>1461</th>\n",
       "      <td>B01M6453MB</td>\n",
       "      <td>AFG5FM3NEMOL6BNFRV2NK5FNJCHQ,AGEINTRN6Z563RMLH...</td>\n",
       "      <td>ok,got everything as mentioned but the measuri...</td>\n",
       "    </tr>\n",
       "    <tr>\n",
       "      <th>1462</th>\n",
       "      <td>B009P2LIL4</td>\n",
       "      <td>AGVPWCMAHYQWJOQKMUJN4DW3KM5Q,AF4Q3E66MY4SR7YQZ...</td>\n",
       "      <td>plastic but cool body ,u have to find sturdy s...</td>\n",
       "    </tr>\n",
       "    <tr>\n",
       "      <th>1463</th>\n",
       "      <td>B00J5DYCCA</td>\n",
       "      <td>AF2JQCLSCY3QJATWUNNHUSVUPNQQ,AFDMLUXC5LS5RXDJS...</td>\n",
       "      <td>I have installed this in my kitchen working fi...</td>\n",
       "    </tr>\n",
       "    <tr>\n",
       "      <th>1464</th>\n",
       "      <td>B01486F4G6</td>\n",
       "      <td>AFGW5PT3R6ZAVQR4Y5MWVAKBZAYA,AG7QNJ2SCS5VS5VYY...</td>\n",
       "      <td>It does it job perfectly..only issue is temp c...</td>\n",
       "    </tr>\n",
       "  </tbody>\n",
       "</table>\n",
       "<p>1465 rows × 3 columns</p>\n",
       "</div>"
      ],
      "text/plain": [
       "      product_id                                            user_id  \\\n",
       "0     B07JW9H4J1  AG3D6O4STAQKAY2UVGEUV46KN35Q,AHMY5CWJMMK5BJRBB...   \n",
       "1     B098NS6PVG  AECPFYFQVRUWC3KGNLJIOREFP5LQ,AGYYVPDD7YG7FYNBX...   \n",
       "2     B096MSW6CT  AGU3BBQ2V2DDAMOAKGFAWDDQ6QHA,AESFLDV2PT363T2AQ...   \n",
       "3     B08HDJ86NZ  AEWAZDZZJLQUYVOVGBEUKSLXHQ5A,AG5HTSFRRE6NL3M5S...   \n",
       "4     B08CF3B7N1  AE3Q6KSUK5P75D5HFYHCRAOLODSA,AFUGIFH5ZAFXRDSZH...   \n",
       "...          ...                                                ...   \n",
       "1460  B08L7J3T31  AHITFY6AHALOFOHOZEOC6XBP4FEA,AFRABBODZJZQB6Z4U...   \n",
       "1461  B01M6453MB  AFG5FM3NEMOL6BNFRV2NK5FNJCHQ,AGEINTRN6Z563RMLH...   \n",
       "1462  B009P2LIL4  AGVPWCMAHYQWJOQKMUJN4DW3KM5Q,AF4Q3E66MY4SR7YQZ...   \n",
       "1463  B00J5DYCCA  AF2JQCLSCY3QJATWUNNHUSVUPNQQ,AFDMLUXC5LS5RXDJS...   \n",
       "1464  B01486F4G6  AFGW5PT3R6ZAVQR4Y5MWVAKBZAYA,AG7QNJ2SCS5VS5VYY...   \n",
       "\n",
       "                                         review_content  \n",
       "0     Looks durable Charging is fine tooNo complains...  \n",
       "1     I ordered this cable to connect my phone to An...  \n",
       "2     Not quite durable and sturdy,https://m.media-a...  \n",
       "3     Good product,long wire,Charges good,Nice,I bou...  \n",
       "4     Bought this instead of original apple, does th...  \n",
       "...                                                 ...  \n",
       "1460  I received product without spanner,Excellent p...  \n",
       "1461  ok,got everything as mentioned but the measuri...  \n",
       "1462  plastic but cool body ,u have to find sturdy s...  \n",
       "1463  I have installed this in my kitchen working fi...  \n",
       "1464  It does it job perfectly..only issue is temp c...  \n",
       "\n",
       "[1465 rows x 3 columns]"
      ]
     },
     "execution_count": 126,
     "metadata": {},
     "output_type": "execute_result"
    }
   ],
   "source": [
    "df[['product_id','user_id','review_content']]"
   ]
  },
  {
   "cell_type": "code",
   "execution_count": 128,
   "metadata": {},
   "outputs": [],
   "source": [
    "df['sentiment'] = df['review_content'].apply(lambda text: TextBlob(text).sentiment.polarity)"
   ]
  },
  {
   "cell_type": "code",
   "execution_count": 133,
   "metadata": {},
   "outputs": [
    {
     "data": {
      "text/html": [
       "<div>\n",
       "<style scoped>\n",
       "    .dataframe tbody tr th:only-of-type {\n",
       "        vertical-align: middle;\n",
       "    }\n",
       "\n",
       "    .dataframe tbody tr th {\n",
       "        vertical-align: top;\n",
       "    }\n",
       "\n",
       "    .dataframe thead th {\n",
       "        text-align: right;\n",
       "    }\n",
       "</style>\n",
       "<table border=\"1\" class=\"dataframe\">\n",
       "  <thead>\n",
       "    <tr style=\"text-align: right;\">\n",
       "      <th></th>\n",
       "      <th>product_name</th>\n",
       "      <th>sentiment</th>\n",
       "    </tr>\n",
       "  </thead>\n",
       "  <tbody>\n",
       "    <tr>\n",
       "      <th>302</th>\n",
       "      <td>Technotech High Speed HDMI Cable 5 Meter V1.4 ...</td>\n",
       "      <td>1.000000</td>\n",
       "    </tr>\n",
       "    <tr>\n",
       "      <th>1309</th>\n",
       "      <td>Khaitan ORFin Fan heater for Home and kitchen-...</td>\n",
       "      <td>0.755000</td>\n",
       "    </tr>\n",
       "    <tr>\n",
       "      <th>872</th>\n",
       "      <td>CP PLUS 2MP Full HD Smart Wi-fi CCTV Security ...</td>\n",
       "      <td>0.735000</td>\n",
       "    </tr>\n",
       "    <tr>\n",
       "      <th>987</th>\n",
       "      <td>Foxin FTC 12A / Q2612A Black Laser Toner Cartr...</td>\n",
       "      <td>0.700000</td>\n",
       "    </tr>\n",
       "    <tr>\n",
       "      <th>1352</th>\n",
       "      <td>Butterfly Hero Mixer Grinder, 500W, 3 Jars (Grey)</td>\n",
       "      <td>0.700000</td>\n",
       "    </tr>\n",
       "    <tr>\n",
       "      <th>625</th>\n",
       "      <td>Seagate Expansion 1TB External HDD - USB 3.0 f...</td>\n",
       "      <td>0.700000</td>\n",
       "    </tr>\n",
       "    <tr>\n",
       "      <th>134</th>\n",
       "      <td>AmazonBasics New Release ABS USB-A to Lightnin...</td>\n",
       "      <td>0.700000</td>\n",
       "    </tr>\n",
       "    <tr>\n",
       "      <th>750</th>\n",
       "      <td>Eveready Red 1012 AAA Batteries - Pack of 10</td>\n",
       "      <td>0.700000</td>\n",
       "    </tr>\n",
       "    <tr>\n",
       "      <th>934</th>\n",
       "      <td>Cablet 2.5 Inch SATA USB 3.0 HDD/SSD Portable ...</td>\n",
       "      <td>0.688889</td>\n",
       "    </tr>\n",
       "    <tr>\n",
       "      <th>724</th>\n",
       "      <td>Logitech B100 Wired USB Mouse, 3 yr Warranty, ...</td>\n",
       "      <td>0.679091</td>\n",
       "    </tr>\n",
       "  </tbody>\n",
       "</table>\n",
       "</div>"
      ],
      "text/plain": [
       "                                           product_name  sentiment\n",
       "302   Technotech High Speed HDMI Cable 5 Meter V1.4 ...   1.000000\n",
       "1309  Khaitan ORFin Fan heater for Home and kitchen-...   0.755000\n",
       "872   CP PLUS 2MP Full HD Smart Wi-fi CCTV Security ...   0.735000\n",
       "987   Foxin FTC 12A / Q2612A Black Laser Toner Cartr...   0.700000\n",
       "1352  Butterfly Hero Mixer Grinder, 500W, 3 Jars (Grey)   0.700000\n",
       "625   Seagate Expansion 1TB External HDD - USB 3.0 f...   0.700000\n",
       "134   AmazonBasics New Release ABS USB-A to Lightnin...   0.700000\n",
       "750        Eveready Red 1012 AAA Batteries - Pack of 10   0.700000\n",
       "934   Cablet 2.5 Inch SATA USB 3.0 HDD/SSD Portable ...   0.688889\n",
       "724   Logitech B100 Wired USB Mouse, 3 yr Warranty, ...   0.679091"
      ]
     },
     "execution_count": 133,
     "metadata": {},
     "output_type": "execute_result"
    }
   ],
   "source": [
    "df.sort_values(by='sentiment',ascending=False)[:10][['product_name', 'sentiment']]"
   ]
  },
  {
   "cell_type": "code",
   "execution_count": 134,
   "metadata": {},
   "outputs": [
    {
     "data": {
      "text/plain": [
       "np.float64(0.12038590592557359)"
      ]
     },
     "execution_count": 134,
     "metadata": {},
     "output_type": "execute_result"
    }
   ],
   "source": [
    "### Co-relation between discounted price and rating\n",
    "\n",
    "df['discounted_price'].corr(df['rating'])"
   ]
  },
  {
   "cell_type": "code",
   "execution_count": 138,
   "metadata": {},
   "outputs": [
    {
     "data": {
      "text/html": [
       "<div>\n",
       "<style scoped>\n",
       "    .dataframe tbody tr th:only-of-type {\n",
       "        vertical-align: middle;\n",
       "    }\n",
       "\n",
       "    .dataframe tbody tr th {\n",
       "        vertical-align: top;\n",
       "    }\n",
       "\n",
       "    .dataframe thead th {\n",
       "        text-align: right;\n",
       "    }\n",
       "</style>\n",
       "<table border=\"1\" class=\"dataframe\">\n",
       "  <thead>\n",
       "    <tr style=\"text-align: right;\">\n",
       "      <th></th>\n",
       "      <th>category</th>\n",
       "      <th>rating</th>\n",
       "    </tr>\n",
       "  </thead>\n",
       "  <tbody>\n",
       "    <tr>\n",
       "      <th>57</th>\n",
       "      <td>Computers&amp;Accessories|Tablets</td>\n",
       "      <td>4.6</td>\n",
       "    </tr>\n",
       "    <tr>\n",
       "      <th>48</th>\n",
       "      <td>Computers&amp;Accessories|NetworkingDevices|Networ...</td>\n",
       "      <td>4.5</td>\n",
       "    </tr>\n",
       "    <tr>\n",
       "      <th>62</th>\n",
       "      <td>Electronics|Cameras&amp;Photography|Accessories|Film</td>\n",
       "      <td>4.5</td>\n",
       "    </tr>\n",
       "    <tr>\n",
       "      <th>81</th>\n",
       "      <td>Electronics|HomeAudio|MediaStreamingDevices|St...</td>\n",
       "      <td>4.5</td>\n",
       "    </tr>\n",
       "    <tr>\n",
       "      <th>196</th>\n",
       "      <td>OfficeProducts|OfficeElectronics|Calculators|B...</td>\n",
       "      <td>4.5</td>\n",
       "    </tr>\n",
       "    <tr>\n",
       "      <th>148</th>\n",
       "      <td>Home&amp;Kitchen|Kitchen&amp;HomeAppliances|Coffee,Tea...</td>\n",
       "      <td>4.5</td>\n",
       "    </tr>\n",
       "    <tr>\n",
       "      <th>118</th>\n",
       "      <td>Electronics|PowerAccessories|SurgeProtectors</td>\n",
       "      <td>4.5</td>\n",
       "    </tr>\n",
       "    <tr>\n",
       "      <th>194</th>\n",
       "      <td>HomeImprovement|Electrical|CordManagement</td>\n",
       "      <td>4.5</td>\n",
       "    </tr>\n",
       "    <tr>\n",
       "      <th>123</th>\n",
       "      <td>Home&amp;Kitchen|CraftMaterials|PaintingMaterials</td>\n",
       "      <td>4.5</td>\n",
       "    </tr>\n",
       "    <tr>\n",
       "      <th>38</th>\n",
       "      <td>Computers&amp;Accessories|Components|Memory</td>\n",
       "      <td>4.5</td>\n",
       "    </tr>\n",
       "  </tbody>\n",
       "</table>\n",
       "</div>"
      ],
      "text/plain": [
       "                                              category  rating\n",
       "57                       Computers&Accessories|Tablets     4.6\n",
       "48   Computers&Accessories|NetworkingDevices|Networ...     4.5\n",
       "62    Electronics|Cameras&Photography|Accessories|Film     4.5\n",
       "81   Electronics|HomeAudio|MediaStreamingDevices|St...     4.5\n",
       "196  OfficeProducts|OfficeElectronics|Calculators|B...     4.5\n",
       "148  Home&Kitchen|Kitchen&HomeAppliances|Coffee,Tea...     4.5\n",
       "118       Electronics|PowerAccessories|SurgeProtectors     4.5\n",
       "194          HomeImprovement|Electrical|CordManagement     4.5\n",
       "123      Home&Kitchen|CraftMaterials|PaintingMaterials     4.5\n",
       "38             Computers&Accessories|Components|Memory     4.5"
      ]
     },
     "execution_count": 138,
     "metadata": {},
     "output_type": "execute_result"
    }
   ],
   "source": [
    "### Top 5 categories based with highest ratings\n",
    "\n",
    "df.groupby('category')['rating'].mean().reset_index().sort_values(by='rating',ascending=False).head(10)"
   ]
  },
  {
   "cell_type": "code",
   "execution_count": null,
   "metadata": {},
   "outputs": [],
   "source": []
  }
 ],
 "metadata": {
  "kernelspec": {
   "display_name": "Python 3",
   "language": "python",
   "name": "python3"
  },
  "language_info": {
   "codemirror_mode": {
    "name": "ipython",
    "version": 3
   },
   "file_extension": ".py",
   "mimetype": "text/x-python",
   "name": "python",
   "nbconvert_exporter": "python",
   "pygments_lexer": "ipython3",
   "version": "3.13.3"
  },
  "orig_nbformat": 4
 },
 "nbformat": 4,
 "nbformat_minor": 2
}
